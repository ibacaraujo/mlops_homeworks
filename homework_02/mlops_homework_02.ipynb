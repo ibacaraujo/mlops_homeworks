{
 "cells": [
  {
   "cell_type": "code",
   "execution_count": 1,
   "metadata": {
    "id": "tmnqyMODQd-O"
   },
   "outputs": [],
   "source": [
    "import pandas as pd\n",
    "import numpy as np"
   ]
  },
  {
   "cell_type": "code",
   "execution_count": 2,
   "metadata": {
    "id": "2nPq4ozjQj-G"
   },
   "outputs": [],
   "source": [
    "import mlflow"
   ]
  },
  {
   "cell_type": "code",
   "execution_count": 3,
   "metadata": {
    "colab": {
     "base_uri": "https://localhost:8080/"
    },
    "id": "P9QLL3SfRGTV",
    "outputId": "d5469506-65b4-4fdd-d1b0-7a190bf70179"
   },
   "outputs": [
    {
     "name": "stdout",
     "output_type": "stream",
     "text": [
      "mlflow, version 2.22.0\n"
     ]
    }
   ],
   "source": [
    "!mlflow --version"
   ]
  },
  {
   "cell_type": "markdown",
   "metadata": {
    "id": "OYwyaMX8RNs7"
   },
   "source": [
    "Question 01. 2.22.0."
   ]
  },
  {
   "cell_type": "code",
   "execution_count": 6,
   "metadata": {
    "id": "yL5Yw8qCR9hv"
   },
   "outputs": [],
   "source": [
    "!python preprocess_data.py --raw_data_path '.' --dest_path ./output"
   ]
  },
  {
   "cell_type": "markdown",
   "metadata": {
    "id": "CMtsLRv_TRXz"
   },
   "source": [
    "Question 02. 4."
   ]
  },
  {
   "cell_type": "code",
   "execution_count": 7,
   "metadata": {
    "id": "tlhRAvEUUK3F"
   },
   "outputs": [],
   "source": [
    "!python train.py"
   ]
  },
  {
   "cell_type": "markdown",
   "metadata": {},
   "source": [
    "Question 03. 2."
   ]
  },
  {
   "cell_type": "markdown",
   "metadata": {},
   "source": [
    "Question 04. default-artifact-root."
   ]
  },
  {
   "cell_type": "code",
   "execution_count": 14,
   "metadata": {},
   "outputs": [
    {
     "name": "stdout",
     "output_type": "stream",
     "text": [
      "🏃 View run invincible-squid-80 at: http://127.0.0.1:5000/#/experiments/1/runs/4288c93a093a402f98946d78584ac8b0\n",
      "\n",
      "🧪 View experiment at: http://127.0.0.1:5000/#/experiments/1                    \n",
      "\n",
      "🏃 View run agreeable-shad-495 at: http://127.0.0.1:5000/#/experiments/1/runs/ff88745492f14acca459e7078d8410f8\n",
      "\n",
      "🧪 View experiment at: http://127.0.0.1:5000/#/experiments/1                    \n",
      "\n",
      "🏃 View run gentle-shark-399 at: http://127.0.0.1:5000/#/experiments/1/runs/ae74fe3cf4c8407da63c899f591661fd\n",
      "\n",
      "🧪 View experiment at: http://127.0.0.1:5000/#/experiments/1                    \n",
      "\n",
      "🏃 View run traveling-swan-768 at: http://127.0.0.1:5000/#/experiments/1/runs/02e32e80c58c455e9f4ff7edd34b7154\n",
      "\n",
      "🧪 View experiment at: http://127.0.0.1:5000/#/experiments/1                    \n",
      "\n",
      "🏃 View run delicate-worm-31 at: http://127.0.0.1:5000/#/experiments/1/runs/7e6c9bf18fe34a1682bb46e52ef8a222\n",
      "\n",
      "🧪 View experiment at: http://127.0.0.1:5000/#/experiments/1                    \n",
      "\n",
      "🏃 View run polite-robin-723 at: http://127.0.0.1:5000/#/experiments/1/runs/61cc08a05cd04e2b8d6a073368569c39\n",
      "\n",
      "🧪 View experiment at: http://127.0.0.1:5000/#/experiments/1                    \n",
      "\n",
      "🏃 View run upbeat-shad-262 at: http://127.0.0.1:5000/#/experiments/1/runs/36603e5b5db64ccb828f52f860b9d37e\n",
      "\n",
      "🧪 View experiment at: http://127.0.0.1:5000/#/experiments/1                    \n",
      "\n",
      "🏃 View run debonair-hog-505 at: http://127.0.0.1:5000/#/experiments/1/runs/71c5294cb2e94c2a95d37fe378054c6b\n",
      "\n",
      "🧪 View experiment at: http://127.0.0.1:5000/#/experiments/1                    \n",
      "\n",
      "🏃 View run luxuriant-koi-638 at: http://127.0.0.1:5000/#/experiments/1/runs/2a4480c2ea3346829b06d28ea87085c1\n",
      "\n",
      "🧪 View experiment at: http://127.0.0.1:5000/#/experiments/1                    \n",
      "\n",
      "🏃 View run abrasive-fox-785 at: http://127.0.0.1:5000/#/experiments/1/runs/ec6f5e89ec374124bdbfa7d90d1d622f\n",
      "\n",
      "🧪 View experiment at: http://127.0.0.1:5000/#/experiments/1                    \n",
      "\n",
      "🏃 View run valuable-horse-637 at: http://127.0.0.1:5000/#/experiments/1/runs/2612ecbce85a417996c6ae8908c67715\n",
      "\n",
      "🧪 View experiment at: http://127.0.0.1:5000/#/experiments/1                    \n",
      "\n",
      "🏃 View run melodic-shark-50 at: http://127.0.0.1:5000/#/experiments/1/runs/c2d46c24ef954069a79ab71d825b0dde\n",
      "\n",
      "🧪 View experiment at: http://127.0.0.1:5000/#/experiments/1                    \n",
      "\n",
      "🏃 View run monumental-shrew-76 at: http://127.0.0.1:5000/#/experiments/1/runs/19a875ad4d814bbdabcd776f63537305\n",
      "\n",
      "🧪 View experiment at: http://127.0.0.1:5000/#/experiments/1                    \n",
      "\n",
      "🏃 View run grandiose-jay-881 at: http://127.0.0.1:5000/#/experiments/1/runs/81569ccb638a4e0f9188860ff4642b05\n",
      "\n",
      "🧪 View experiment at: http://127.0.0.1:5000/#/experiments/1                    \n",
      "\n",
      "🏃 View run grandiose-bug-387 at: http://127.0.0.1:5000/#/experiments/1/runs/4f15980137884d09aad1f2b2af0363a2\n",
      "\n",
      "🧪 View experiment at: http://127.0.0.1:5000/#/experiments/1                    \n",
      "\n",
      "100%|██████████| 15/15 [00:59<00:00,  3.96s/trial, best loss: 5.335419588556921]\n"
     ]
    }
   ],
   "source": [
    "!python hpo.py"
   ]
  },
  {
   "cell_type": "markdown",
   "metadata": {},
   "source": [
    "Question 05. 5.335."
   ]
  },
  {
   "cell_type": "code",
   "execution_count": 15,
   "metadata": {},
   "outputs": [
    {
     "name": "stdout",
     "output_type": "stream",
     "text": [
      "2025/05/28 16:46:40 INFO mlflow.tracking.fluent: Experiment with name 'random-forest-best-models' does not exist. Creating a new experiment.\n",
      "🏃 View run whimsical-elk-777 at: http://127.0.0.1:5000/#/experiments/2/runs/5b11460fff4f4d1f873450ecedb42605\n",
      "🧪 View experiment at: http://127.0.0.1:5000/#/experiments/2\n",
      "🏃 View run thundering-pug-737 at: http://127.0.0.1:5000/#/experiments/2/runs/de5366d70d1b49f997a50f03d39837af\n",
      "🧪 View experiment at: http://127.0.0.1:5000/#/experiments/2\n",
      "🏃 View run grandiose-stag-98 at: http://127.0.0.1:5000/#/experiments/2/runs/503b8aae58f648e799494711fbd16aca\n",
      "🧪 View experiment at: http://127.0.0.1:5000/#/experiments/2\n",
      "🏃 View run stately-carp-723 at: http://127.0.0.1:5000/#/experiments/2/runs/8311467e6c194a90898772acab46f20d\n",
      "🧪 View experiment at: http://127.0.0.1:5000/#/experiments/2\n",
      "🏃 View run bright-kite-278 at: http://127.0.0.1:5000/#/experiments/2/runs/9fcb0c233b6242f18f977e7ec3e21e31\n",
      "🧪 View experiment at: http://127.0.0.1:5000/#/experiments/2\n",
      "Successfully registered model 'random-forest-regressor-best'.\n",
      "2025/05/28 16:47:40 INFO mlflow.store.model_registry.abstract_store: Waiting up to 300 seconds for model version to finish creation. Model name: random-forest-regressor-best, version 1\n",
      "Created version '1' of model 'random-forest-regressor-best'.\n",
      "Melhor modelo registrado. random-forest-regressor-best.\n",
      "Test RMSE. 5.567408012462019.\n"
     ]
    }
   ],
   "source": [
    "!python register_model.py"
   ]
  },
  {
   "cell_type": "markdown",
   "metadata": {},
   "source": [
    "Question 06. 5.567."
   ]
  }
 ],
 "metadata": {
  "colab": {
   "provenance": []
  },
  "kernelspec": {
   "display_name": "Python 3 (ipykernel)",
   "language": "python",
   "name": "python3"
  },
  "language_info": {
   "codemirror_mode": {
    "name": "ipython",
    "version": 3
   },
   "file_extension": ".py",
   "mimetype": "text/x-python",
   "name": "python",
   "nbconvert_exporter": "python",
   "pygments_lexer": "ipython3",
   "version": "3.10.16"
  }
 },
 "nbformat": 4,
 "nbformat_minor": 4
}
